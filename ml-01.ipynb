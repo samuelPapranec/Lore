{
 "cells": [
  {
   "cell_type": "markdown",
   "id": "8253cfd6-0efb-463e-932c-a9ccf45757de",
   "metadata": {},
   "source": [
    "####   <a href = \"https://www.youtube.com/watch?v=grSMqteTd40&t=2361s\" style=\"color: gray; \">Python / Machine Learning - I.</a>\n",
    "######   <a href = \"https://www.youtube.com/watch?v=grSMqteTd40&t=2361s\" style=\"color: gray; \">Model Coefficients, Linear Regression, scikit-learn, RandomForestClassifier, cross_val_score, training data, test data, model ensembling, fit method, np.mean,</a>\n",
    "\n",
    "Samuel Papranec&nbsp;&nbsp;&nbsp;&nbsp;&nbsp;&nbsp;&nbsp;&nbsp;&nbsp;&nbsp;&nbsp;&nbsp;&nbsp;&nbsp;&nbsp;&nbsp;20.12.2022"
   ]
  },
  {
   "cell_type": "markdown",
   "id": "3bf2eeca-c76d-4258-9f35-9d4ff23011af",
   "metadata": {},
   "source": [
    "In machine learning, **model coefficients** refer to the parameters of the model that are learned during the training process. These coefficients are used to make predictions about new data based on the relationships learned from the training data.\n",
    "\n",
    "For example, in a linear regression model, the model coefficients are the values of the slope and intercept that are learned from the training data. Given a set of input features, the model uses these coefficients to make a prediction about the output. The coefficients are chosen to minimize the difference between the predicted outputs and the true outputs in the training data.\n",
    "\n",
    "In other types of models, such as decision trees or neural networks, the model coefficients may be represented by the weights of the connections between the nodes in the model, or by the parameters of the individual nodes or layers.\n",
    "\n"
   ]
  },
  {
   "cell_type": "markdown",
   "id": "a729a703-2d3d-4528-9aba-2d0a5356175b",
   "metadata": {},
   "source": [
    "**Linear regression** is a machine learning algorithm used to model the linear relationship between a dependent variable and one or more independent variables. It is used to predict a continuous response variable based on one or more predictor variables.\n",
    "\n",
    "In linear regression, the model is represented as an equation of the form:"
   ]
  },
  {
   "cell_type": "code",
   "execution_count": null,
   "id": "163dcb3f-0059-4a6c-bef1-6a3a1c2ec94a",
   "metadata": {},
   "outputs": [],
   "source": [
    "y = b0 + b1*x1 + b2*x2 + ... + bn*xn"
   ]
  },
  {
   "cell_type": "markdown",
   "id": "147d1889-038d-4d1b-86aa-240e58650da1",
   "metadata": {},
   "source": [
    "where `y` is the dependent variable, `x1`, `x2`, ..., `xn` are the independent variables, and `b0`, `b1`, `b2`, ..., `bn` are the model coefficients.\n",
    "\n",
    "The coefficients are learned from the training data using a process called \"least squares\" optimization, which finds the values of the coefficients that minimize the difference between the predicted values and the true values."
   ]
  },
  {
   "cell_type": "markdown",
   "id": "d67a37fb-79d8-4025-8872-4dc74a2976e6",
   "metadata": {},
   "source": [
    "`RandomForestClassifier` is a class in the ensemble module of scikit-learn, a popular library for machine learning in Python.\n",
    "\n",
    "It is an ensemble learning method for classification that trains a number of decision trees on different subsets of the training data and combines their predictions to make a final prediction.\n",
    "\n",
    "To create an instance of `RandomForestClassifier`, I can call the class with no arguments or with some optional parameters to customize the behavior of the model.\n",
    "\n",
    "• `clf` (classifier) - used to store machine learning models that are used for classification tasks (instances of the `RandomForestClassifier` class)\n",
    "\n",
    "\n",
    " \n",
    "Here's an example of how you can create a `RandomForestClassifier` object:"
   ]
  },
  {
   "cell_type": "code",
   "execution_count": null,
   "id": "c7ddc489-95d2-4962-98c6-c0aa5c36d1b2",
   "metadata": {},
   "outputs": [],
   "source": [
    "from sklearn.ensemble import RandomForestClassifier\n",
    "\n",
    "# create a Random Forest classifier with default parameters\n",
    "\n",
    "clf = RandomForestClassifier()"
   ]
  },
  {
   "cell_type": "markdown",
   "id": "8fea4f3a-e526-40de-a03f-36c4f3debdb8",
   "metadata": {},
   "source": [
    "Once I have created a `RandomForestClassifier` object and stored it in the `clf` variable, I can use it to fit the model to training data, make predictions on new data, and evaluate the model's performance.\n",
    "\n",
    "`clf.fit` is a method that is used to train a machine learning model. It takes in training data and a set of labels for the data, and uses them to learn the parameters of the model. For example, if `clf` is an instance of a classifier such as `sklearn.ensemble.RandomForestClassifier`, you can use the `fit` method to train the classifier on a dataset as follows:"
   ]
  },
  {
   "cell_type": "code",
   "execution_count": null,
   "id": "252a132b-e0f1-48e6-a6b8-c0af4b0fc76f",
   "metadata": {
    "tags": []
   },
   "outputs": [],
   "source": [
    "# create a dataset\n",
    "X = [[1, 2, 3], [4, 5, 6]]\n",
    "y = [0, 1]\n",
    "\n",
    "# X_train, y_train = ... # load training data and labels\n",
    "\n",
    "# fit the model to the training data\n",
    "clf.fit(X, y)"
   ]
  },
  {
   "cell_type": "markdown",
   "id": "a166ce67-a38d-4ee4-a3da-2f4c7f32aa2e",
   "metadata": {},
   "source": [
    "The `fit` method typically has several optional parameters that allow you to customize the training process, such as the number of trees in a random forest or the learning rate for a neural network.\n",
    "\n",
    "Once the model has been trained, you can use it to make predictions on new data by calling the `predict` or `predict_proba method`.\n",
    "\n",
    "For example:"
   ]
  },
  {
   "cell_type": "code",
   "execution_count": null,
   "id": "3a09b45c-11da-4b6c-9c6f-d6b61facab4b",
   "metadata": {},
   "outputs": [],
   "source": [
    "X_test = ... # load test data\n",
    "y_pred = clf.predict(X_test)"
   ]
  },
  {
   "cell_type": "markdown",
   "id": "9c4ea5eb-be4b-4dc1-800b-851bdc44fc7f",
   "metadata": {},
   "source": [
    "It's important to note that the `fit` method should only be called on the training data, and not on the test data. This is because the goal of training a machine learning model is to learn the patterns in the training data and generalize to unseen data, so evaluating the model on the training data would give overly optimistic results."
   ]
  },
  {
   "cell_type": "markdown",
   "id": "fd516b60-ef6c-4e39-b456-21ae8db44476",
   "metadata": {},
   "source": [
    "`cross_val_score()` can be used to evaluate performance of a machine learning model using cross-validation.\n",
    "\n",
    "Here's how I can use it:"
   ]
  },
  {
   "cell_type": "code",
   "execution_count": null,
   "id": "0dee60b3-c0bf-49bd-9a4f-ce3a74b2951c",
   "metadata": {},
   "outputs": [],
   "source": [
    "from sklearn.model.selection import cross_val_score\n",
    "from sklearn.ensemble import RandomForestClassifier\n",
    "\n",
    "# Create a Random Forest classifier\n",
    "clf = RandomForestClassifier(random_state=0)"
   ]
  },
  {
   "cell_type": "markdown",
   "id": "7cce8b90-5c1a-414c-a454-2a797522795a",
   "metadata": {},
   "source": [
    "One advanced technique that is frequently used in this context is **model ensembling**, which involves training multiple models and combining their predictions to make more accurate predictions.\n",
    "\n",
    "Here is an example of Python code that uses the scikit-learn library to implement a simple model ensemble:"
   ]
  },
  {
   "cell_type": "code",
   "execution_count": null,
   "id": "0710849c-91cb-4ee0-a31d-643e8c330b6e",
   "metadata": {},
   "outputs": [],
   "source": [
    "from sklearn.ensemble import RandomForestClassifier, GradientBoostingClassifier\n",
    "from sklearn.linear_model import LogisticRegression\n",
    "from sklearn.model_selection import cross_val_score\n",
    "\n",
    "# train individual models\n",
    "model1 = RandomForestClassifier()\n",
    "model2 = GradientBoostingClassifier()\n",
    "model3 = LogisticRegression()\n",
    "\n",
    "# compute cross-validated accuracy scores for each model\n",
    "scores1 = cross_val_score(model1, X, y, cv=5) \n",
    "scores2 = cross_val_score(model2, X, y, cv=5)\n",
    "scores3 = cross_val_score(model3, X, y, cv=5)\n",
    "\n",
    "# compute the average accuracy score for each model\n",
    "mean_score1 = np.mean(scores1)\n",
    "mean_score2 = np.mean(scores2)\n",
    "mean_score3 = np.mean(scores3)\n",
    "\n",
    "# combine the predictions of the individual models using simple averaging\n",
    "predictions = (model1.predict_proba(X_test) + \n",
    "               model2.predict_proba(X_test) + \n",
    "               model3.predict_proba(X_test)) / 3\n",
    "\n",
    "# round the predictions to the nearest class\n",
    "predictions = np.round(predictions)\n",
    "\n",
    "# compute the accuracy of the ensemble\n",
    "ensemble_accuracy = accuracy_score(y_test, predictions)"
   ]
  },
  {
   "cell_type": "markdown",
   "id": "9ef28c05-a652-4728-87de-89a6db648b5f",
   "metadata": {},
   "source": [
    "In the NumPy library for Python, the `mean()` function calculates the mean or average of a given array. It returns the arithmetic mean of the elements in the array."
   ]
  }
 ],
 "metadata": {
  "kernelspec": {
   "display_name": "Python 3 (ipykernel)",
   "language": "python",
   "name": "python3"
  },
  "language_info": {
   "codemirror_mode": {
    "name": "ipython",
    "version": 3
   },
   "file_extension": ".py",
   "mimetype": "text/x-python",
   "name": "python",
   "nbconvert_exporter": "python",
   "pygments_lexer": "ipython3",
   "version": "3.11.0"
  }
 },
 "nbformat": 4,
 "nbformat_minor": 5
}
