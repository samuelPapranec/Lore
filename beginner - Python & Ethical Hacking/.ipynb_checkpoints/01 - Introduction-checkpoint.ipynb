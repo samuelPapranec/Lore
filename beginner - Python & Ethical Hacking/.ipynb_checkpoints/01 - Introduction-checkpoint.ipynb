{
 "cells": [
  {
   "cell_type": "markdown",
   "id": "ca1c6586-49c0-488e-8291-7c804d0eeb24",
   "metadata": {
    "tags": []
   },
   "source": [
    "##   <a href = \"https://www.youtube.com/watch?v=grSMqteTd40&t=2361s\" style=\"color: gray; \">01.&nbsp;&nbsp; Introduction</a>\n",
    "#####   <a href = \"https://www.youtube.com/watch?v=grSMqteTd40&t=2361s\" style=\"color: gray; \"></a>\n",
    " 2022-31-01 &nbsp;&nbsp;&nbsp;[Samuel Papranec](https://www.github.com/samuelPapranec) &nbsp;&nbsp;&nbsp;content: parts 001-009<br>\n",
    " \n",
    "> • [001-008 / 196](https://www.github.io/papers/zSec/beginner-Python&EthicalHacking/p01.jpg) <br>\n",
    "     **ss**"
   ]
  },
  {
   "cell_type": "markdown",
   "id": "e9815ee0-7142-4ded-a156-134011e8a3b3",
   "metadata": {
    "tags": []
   },
   "source": [
    "####   <a href = \"https://www.youtube.com/watch?v=grSMqteTd40&t=2361s\" style=\"color: gray; \">(009/196)&nbsp;&nbsp; Installing & Using a Python IDE</a>\n",
    "> • Consistently write new informations to repository using developer´s environment <br>\n",
    "> • **`Ctrl`**+**`L`** is used to select path bar in windows explorer<br>\n",
    "> • Ensure `IDE_HOME` points to the directory where the IDE(PyCharm) is installed.<br>\n",
    "> • Use `.\\pycharm64` in its directory to start PyCharm from console.<br>\n",
    "> • **`~`** character represents **the root directory : C:\\users\\pc**<br>\n",
    "> • *~\\PycharmProjects* folder is used for all local Pycharm Projects<br>"
   ]
  },
  {
   "cell_type": "code",
   "execution_count": null,
   "id": "c0d67b98-f910-4956-92de-25731421940a",
   "metadata": {},
   "outputs": [],
   "source": []
  }
 ],
 "metadata": {
  "kernelspec": {
   "display_name": "Python 3 (ipykernel)",
   "language": "python",
   "name": "python3"
  },
  "language_info": {
   "codemirror_mode": {
    "name": "ipython",
    "version": 3
   },
   "file_extension": ".py",
   "mimetype": "text/x-python",
   "name": "python",
   "nbconvert_exporter": "python",
   "pygments_lexer": "ipython3",
   "version": "3.8.7"
  }
 },
 "nbformat": 4,
 "nbformat_minor": 5
}
